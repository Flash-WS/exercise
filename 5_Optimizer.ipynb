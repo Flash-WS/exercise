{
 "cells": [
  {
   "cell_type": "code",
   "execution_count": 9,
   "metadata": {},
   "outputs": [],
   "source": [
    "import torch\n",
    "import torch.nn as nn\n",
    "import torch.nn.functional as F\n",
    "import torchvision\n",
    "from torch.autograd import Variable\n",
    "from torch.utils.data import Dataset, DataLoader\n",
    "import torchvision.transforms as transforms\n",
    "\n",
    "import numpy as np\n",
    "import matplotlib.pyplot as plt\n",
    "\n",
    "%matplotlib inline"
   ]
  },
  {
   "cell_type": "markdown",
   "metadata": {},
   "source": [
    "### Data Loader"
   ]
  },
  {
   "cell_type": "code",
   "execution_count": 10,
   "metadata": {},
   "outputs": [],
   "source": [
    "transform = transforms.Compose([transforms.ToTensor(),\n",
    "                                transforms.Normalize((0.5,0.5,0.5), (0.5,0.5,0.5)\n",
    "                                                  )])\n",
    "\n",
    "trainset = torchvision.datasets.CIFAR10(root='./data', train=True,\n",
    "                                        transform=transform)\n",
    "\n",
    "testset = torchvision.datasets.CIFAR10(root='./data', train=False,\n",
    "                                      transform=transform)"
   ]
  },
  {
   "cell_type": "code",
   "execution_count": 11,
   "metadata": {},
   "outputs": [],
   "source": [
    "train_loader = DataLoader(trainset, batch_size=8, shuffle=True)\n",
    "test_loader = DataLoader(testset, batch_size=8, shuffle=True)"
   ]
  },
  {
   "cell_type": "code",
   "execution_count": 12,
   "metadata": {},
   "outputs": [
    {
     "name": "stdout",
     "output_type": "stream",
     "text": [
      "0 torch.Size([8, 3, 32, 32]) torch.Size([8])\n"
     ]
    }
   ],
   "source": [
    "images=0\n",
    "for n, (image, labels) in enumerate(train_loader):\n",
    "    images = image\n",
    "    print(n, image.shape, labels.shape)\n",
    "    break"
   ]
  },
  {
   "cell_type": "markdown",
   "metadata": {},
   "source": [
    "### Class"
   ]
  },
  {
   "cell_type": "code",
   "execution_count": 13,
   "metadata": {},
   "outputs": [],
   "source": [
    "class my_network(nn.Module):\n",
    "    def __init__(self):\n",
    "        super(my_network, self).__init__()\n",
    "        self.conv1 = nn.Conv2d(3, 64, 5)\n",
    "        self.conv2 = nn.Conv2d(64, 30, 5)\n",
    "        self.fc1 = nn.Linear(30*5*5, 128)\n",
    "        self.fc2 = nn.Linear(128, 10)\n",
    "        \n",
    "    def forward(self, x):\n",
    "        x = F.relu(self.conv1(x), inplace=True)\n",
    "        x = F.max_pool2d(x, (2,2))\n",
    "        x = F.relu(self.conv2(x), inplace=True)\n",
    "        x = F.max_pool2d(x, (2,2))\n",
    "        x = x.view(x.shape[0], -1)   #  (batchsize, -1) = (batch, 30*5*5)\n",
    "        x = F.relu(self.fc1(x), inplace=True)\n",
    "        x = F.relu(self.fc2(x), inplace=True)\n",
    "        \n",
    "        return x"
   ]
  },
  {
   "cell_type": "code",
   "execution_count": 14,
   "metadata": {},
   "outputs": [],
   "source": [
    "my_net = my_network()"
   ]
  },
  {
   "cell_type": "markdown",
   "metadata": {},
   "source": [
    "### Optimizer, Loss function"
   ]
  },
  {
   "cell_type": "markdown",
   "metadata": {},
   "source": [
    "torch.optim.SGD(params= **my_net.parameters()**)  파라미터를 꼭 넣어주어야함"
   ]
  },
  {
   "cell_type": "code",
   "execution_count": 15,
   "metadata": {},
   "outputs": [],
   "source": [
    "optim = torch.optim.SGD(params=my_net.parameters(), lr=0.001, momentum=0.9)\n",
    "loss_function = nn.CrossEntropyLoss()"
   ]
  },
  {
   "cell_type": "code",
   "execution_count": 17,
   "metadata": {
    "scrolled": true
   },
   "outputs": [
    {
     "name": "stdout",
     "output_type": "stream",
     "text": [
      "0, loss: 2.34443\n",
      "100, loss: 2.13617\n",
      "200, loss: 2.11648\n",
      "300, loss: 2.31354\n",
      "400, loss: 1.82408\n",
      "500, loss: 2.43780\n",
      "600, loss: 2.71906\n",
      "700, loss: 1.87378\n",
      "800, loss: 2.13073\n",
      "900, loss: 1.83605\n",
      "1000, loss: 1.96542\n",
      "1100, loss: 1.67012\n",
      "1200, loss: 2.23507\n",
      "1300, loss: 2.16206\n",
      "1400, loss: 1.64355\n",
      "1500, loss: 1.76054\n",
      "0, loss: 2.18340\n",
      "100, loss: 1.55750\n",
      "200, loss: 1.98880\n",
      "300, loss: 1.67856\n",
      "400, loss: 2.32340\n",
      "500, loss: 1.87337\n",
      "600, loss: 1.69861\n",
      "700, loss: 1.73227\n",
      "800, loss: 1.64283\n",
      "900, loss: 2.04966\n",
      "1000, loss: 1.51486\n",
      "1100, loss: 1.66652\n",
      "1200, loss: 1.75645\n",
      "1300, loss: 1.28054\n",
      "1400, loss: 1.47206\n",
      "1500, loss: 1.61685\n",
      "0, loss: 2.17886\n",
      "100, loss: 1.74045\n",
      "200, loss: 1.05856\n",
      "300, loss: 1.52335\n",
      "400, loss: 1.66317\n",
      "500, loss: 1.67924\n",
      "600, loss: 1.23167\n",
      "700, loss: 1.37982\n",
      "800, loss: 0.80749\n",
      "900, loss: 1.16345\n",
      "1000, loss: 1.20987\n",
      "1100, loss: 1.62529\n",
      "1200, loss: 1.65295\n",
      "1300, loss: 1.74078\n",
      "1400, loss: 0.79583\n",
      "1500, loss: 1.17903\n"
     ]
    }
   ],
   "source": [
    "epoch_num = 3\n",
    "for epoch in range(epoch_num):\n",
    "    for n, data in enumerate(train_loader):\n",
    "        images, labels = data\n",
    "        images, labels = Variable(images), Variable(labels)\n",
    "        \n",
    "        optim.zero_grad()   # gradient 초기화\n",
    "        out = my_net(images)\n",
    "        loss = loss_function(out, labels)\n",
    "        loss.backward()\n",
    "        optim.step()\n",
    "        \n",
    "        if n % 100 ==0:\n",
    "            print('%d, loss: %.5f' % (n, loss))\n",
    "        if n == 1500:\n",
    "            break"
   ]
  }
 ],
 "metadata": {
  "kernelspec": {
   "display_name": "Python 3",
   "language": "python",
   "name": "python3"
  },
  "language_info": {
   "codemirror_mode": {
    "name": "ipython",
    "version": 3
   },
   "file_extension": ".py",
   "mimetype": "text/x-python",
   "name": "python",
   "nbconvert_exporter": "python",
   "pygments_lexer": "ipython3",
   "version": "3.7.3"
  }
 },
 "nbformat": 4,
 "nbformat_minor": 2
}
