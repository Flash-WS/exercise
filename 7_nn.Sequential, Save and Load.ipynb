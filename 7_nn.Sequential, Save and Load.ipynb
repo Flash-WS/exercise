{
 "cells": [
  {
   "cell_type": "code",
   "execution_count": 2,
   "metadata": {},
   "outputs": [],
   "source": [
    "import torch\n",
    "import torch.nn as nn\n",
    "import torch.nn.functional as F\n",
    "from torch.autograd import Variable\n",
    "from torch.utils.data import Dataset, DataLoader\n",
    "import torch.optim as optim\n",
    "\n",
    "import torchvision\n",
    "import torchvision.transforms as transforms\n",
    "\n",
    "import numpy as np\n",
    "import matplotlib.pyplot as plt\n",
    "%matplotlib inline"
   ]
  },
  {
   "cell_type": "markdown",
   "metadata": {},
   "source": [
    "### nn.Sequential"
   ]
  },
  {
   "cell_type": "code",
   "execution_count": 10,
   "metadata": {},
   "outputs": [],
   "source": [
    "class my_network(nn.Module):\n",
    "    def __init__(self):\n",
    "        super(my_network, self).__init__()\n",
    "        \n",
    "        self.layer1 = nn.Sequential(\n",
    "            nn.Conv2d(3, 32, 5),\n",
    "            nn.ReLU(inplace=True),\n",
    "            nn.Conv2d(32, 64,3),\n",
    "            nn.ReLU(inplace=True),\n",
    "            nn.Conv2d(64,128,3),\n",
    "            nn.Conv2d(128, 256, 3),\n",
    "            nn.MaxPool2d(2)\n",
    "        )\n",
    "        \n",
    "        self.layer2_1 = nn.Sequential(\n",
    "            nn.Conv2d(256, 512, 7, 1, 2),\n",
    "            nn.Conv2d(512, 64, 1),\n",
    "            nn.MaxPool2d(2)\n",
    "        )\n",
    "        \n",
    "        self.layer2_2 = nn.Sequential(\n",
    "            nn.Conv2d(256, 512, 5, 1, 1),\n",
    "            nn.Conv2d(512, 64, 1),\n",
    "            nn.MaxPool2d(2)\n",
    "        )\n",
    "        \n",
    "        self.layer2_3 = nn.Sequential(\n",
    "            nn.Conv2d(256, 512, 3),\n",
    "            nn.Conv2d(512, 64, 1),\n",
    "            nn.MaxPool2d(2)\n",
    "        )\n",
    "        \n",
    "        self.fc = nn.Sequential(\n",
    "            nn.Linear(3*64*4*4, 1024),\n",
    "            nn.ReLU(True),\n",
    "            nn.Linear(1024,10)\n",
    "        )\n",
    "        \n",
    "    def forward(self, x):\n",
    "        print(x.data.shape)\n",
    "        x= self.layer1(x)\n",
    "        x1 = self.layer2_1(x)\n",
    "        print(\"x1\", x1.shape)\n",
    "        x2 = self.layer2_2(x)\n",
    "        print(\"x2\", x2.shape)\n",
    "        x3 = self.layer2_3(x)\n",
    "        print(\"x3\", x3.shape)\n",
    "        x= torch.cat((x1,x2,x3), dim=1)\n",
    "        x = x.view(x.shape[0], -1)\n",
    "        x = self.fc(x)\n",
    "        \n",
    "        return x"
   ]
  },
  {
   "cell_type": "code",
   "execution_count": 11,
   "metadata": {},
   "outputs": [
    {
     "data": {
      "text/plain": [
       "torch.Size([1, 3, 32, 32])"
      ]
     },
     "execution_count": 11,
     "metadata": {},
     "output_type": "execute_result"
    }
   ],
   "source": [
    "a = torch.rand(1, 3, 32, 32)\n",
    "a.shape"
   ]
  },
  {
   "cell_type": "code",
   "execution_count": 12,
   "metadata": {},
   "outputs": [
    {
     "name": "stdout",
     "output_type": "stream",
     "text": [
      "torch.Size([1, 3, 32, 32])\n",
      "x1 torch.Size([1, 64, 4, 4])\n",
      "x2 torch.Size([1, 64, 4, 4])\n",
      "x3 torch.Size([1, 64, 4, 4])\n",
      "torch.Size([1, 10])\n"
     ]
    }
   ],
   "source": [
    "net = my_network()\n",
    "output = net(a)\n",
    "\n",
    "print(output.shape)"
   ]
  },
  {
   "cell_type": "code",
   "execution_count": 13,
   "metadata": {},
   "outputs": [
    {
     "name": "stdout",
     "output_type": "stream",
     "text": [
      "tensor([[ 0.0086, -0.0039,  0.0216, -0.0073,  0.0301, -0.0197,  0.0177, -0.0261,\n",
      "          0.0055, -0.0140]], grad_fn=<AddmmBackward>)\n"
     ]
    }
   ],
   "source": [
    "print(output)"
   ]
  },
  {
   "cell_type": "markdown",
   "metadata": {},
   "source": [
    "### 모델 저장하기"
   ]
  },
  {
   "cell_type": "code",
   "execution_count": 14,
   "metadata": {},
   "outputs": [],
   "source": [
    "torch.save(net.state_dict(), './my_model.pth')"
   ]
  },
  {
   "cell_type": "markdown",
   "metadata": {},
   "source": [
    "### 모델 불러오기"
   ]
  },
  {
   "cell_type": "code",
   "execution_count": 15,
   "metadata": {},
   "outputs": [],
   "source": [
    "model = my_network()  #모델 구조 정의\n",
    "model.load_state_dict(torch.load('./my_model.pth'))"
   ]
  },
  {
   "cell_type": "code",
   "execution_count": 16,
   "metadata": {},
   "outputs": [
    {
     "name": "stdout",
     "output_type": "stream",
     "text": [
      "torch.Size([1, 3, 32, 32])\n",
      "x1 torch.Size([1, 64, 4, 4])\n",
      "x2 torch.Size([1, 64, 4, 4])\n",
      "x3 torch.Size([1, 64, 4, 4])\n",
      "tensor([[ 0.0086, -0.0039,  0.0216, -0.0073,  0.0301, -0.0197,  0.0177, -0.0261,\n",
      "          0.0055, -0.0140]], grad_fn=<AddmmBackward>)\n"
     ]
    }
   ],
   "source": [
    "output2 = model(a)\n",
    "print(output2)"
   ]
  }
 ],
 "metadata": {
  "kernelspec": {
   "display_name": "Python 3",
   "language": "python",
   "name": "python3"
  },
  "language_info": {
   "codemirror_mode": {
    "name": "ipython",
    "version": 3
   },
   "file_extension": ".py",
   "mimetype": "text/x-python",
   "name": "python",
   "nbconvert_exporter": "python",
   "pygments_lexer": "ipython3",
   "version": "3.7.3"
  }
 },
 "nbformat": 4,
 "nbformat_minor": 2
}
